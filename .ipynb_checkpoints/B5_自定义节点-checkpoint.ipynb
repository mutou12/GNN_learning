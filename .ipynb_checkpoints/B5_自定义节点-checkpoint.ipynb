{
 "cells": [
  {
   "cell_type": "markdown",
   "id": "1f850f63-934a-42a3-984d-c2787ebae9c7",
   "metadata": {},
   "source": [
    "# 导入工具包"
   ]
  },
  {
   "cell_type": "code",
   "execution_count": 2,
   "id": "34bf00d6-5252-497a-a79b-537ae5a0dd9f",
   "metadata": {},
   "outputs": [],
   "source": [
    "import networkx as nx\n",
    "import numpy as np\n",
    "import random\n",
    "import pandas as pd\n",
    "\n",
    "import matplotlib.pyplot as plt\n",
    "import matplotlib as mpl\n",
    "%matplotlib inline\n",
    "plt.rcParams['font.sans-serif'] = ['SimHei']\n",
    "plt.rcParams['axes.unicode_minus'] = False"
   ]
  },
  {
   "cell_type": "code",
   "execution_count": 3,
   "id": "e7d809c3-af50-48f5-96ae-0bc1327be351",
   "metadata": {},
   "outputs": [],
   "source": [
    "import PIL"
   ]
  },
  {
   "cell_type": "markdown",
   "id": "1e90f353-44a0-4e68-af26-74f556b4ba7e",
   "metadata": {},
   "source": [
    "# 自定义图标"
   ]
  },
  {
   "cell_type": "code",
   "execution_count": 4,
   "id": "40f0ba46-12d6-4a29-8157-7df0ca276239",
   "metadata": {},
   "outputs": [],
   "source": [
    "icons = {\n",
    "    'router': 'data/8726556_wifi_router_icon.png',\n",
    "    'switch': 'data/3259413_media_social_wifi_icon.png',\n",
    "    'PC': 'data/1936905_computer_device_mac_pc_work_icon.png'\n",
    "}\n",
    "images = {k: PIL.Image.open(fname) for k, fname in icons.items()}"
   ]
  },
  {
   "cell_type": "code",
   "execution_count": 5,
   "id": "e84a73ea-b42d-47b6-93e8-c26640fdba2f",
   "metadata": {},
   "outputs": [
    {
     "data": {
      "text/plain": [
       "{'router': <PIL.PngImagePlugin.PngImageFile image mode=RGBA size=512x512>,\n",
       " 'switch': <PIL.PngImagePlugin.PngImageFile image mode=RGBA size=512x512>,\n",
       " 'PC': <PIL.PngImagePlugin.PngImageFile image mode=RGBA size=512x512>}"
      ]
     },
     "execution_count": 5,
     "metadata": {},
     "output_type": "execute_result"
    }
   ],
   "source": [
    "images"
   ]
  },
  {
   "cell_type": "markdown",
   "id": "485148f6-eaed-4e41-a8c7-dd3d7ef987c0",
   "metadata": {},
   "source": [
    "# 创建图"
   ]
  },
  {
   "cell_type": "code",
   "execution_count": null,
   "id": "5825c431-a5c8-4904-970d-135c23bbb043",
   "metadata": {},
   "outputs": [],
   "source": [
    "# Generate the computer network graph\n",
    "G = nx.Graph()\n",
    "\n",
    "G.add_node(\"router\", image=images[\"router\"])\n",
    "for i in range(1, 4):\n",
    "    G.add_node(f\"switch_{i}\", image=images[\"switch\"])\n",
    "    for j in range(1, 4):\n",
    "        G.add_node(\"PC_\" + str(i) + \"_\" + str(j), image=images[\"PC\"])\n",
    "\n",
    "G.add_edge(\"router\", \"switch_1\")\n",
    "G.add_edge(\"router\", \"switch_2\")\n",
    "G.add_edge(\"router\", \"switch_3\")\n",
    "for u in range(1, 4):\n",
    "    for v in range(1, 4):\n",
    "        G.add_edge(\"switch_\" + str(u), \"PC_\" + str(u) + \"_\" + str(v))\n",
    "\n",
    "# Get a reproducible layout and create figure\n",
    "pos = nx.spring_layout(G, seed=1734289230)\n",
    "fig, ax = plt.subplots()\n",
    "\n",
    "# Note: the min_source/target_margin kwargs only work with FancyArrowPatch objects.\n",
    "# Force the use of FancyArrowPatch for edge drawing by setting `arrows=True`,\n",
    "# but suppress arrowheads with `arrowstyle=\"-\"`\n",
    "nx.draw_networkx_edges(\n",
    "    G,\n",
    "    pos=pos,\n",
    "    ax=ax,\n",
    "    arrows=True,\n",
    "    arrowstyle=\"-\",\n",
    "    min_source_margin=15,\n",
    "    min_target_margin=15,\n",
    ")"
   ]
  }
 ],
 "metadata": {
  "kernelspec": {
   "display_name": "Python 3 (ipykernel)",
   "language": "python",
   "name": "python3"
  },
  "language_info": {
   "codemirror_mode": {
    "name": "ipython",
    "version": 3
   },
   "file_extension": ".py",
   "mimetype": "text/x-python",
   "name": "python",
   "nbconvert_exporter": "python",
   "pygments_lexer": "ipython3",
   "version": "3.10.10"
  }
 },
 "nbformat": 4,
 "nbformat_minor": 5
}
