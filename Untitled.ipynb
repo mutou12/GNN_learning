{
 "cells": [
  {
   "cell_type": "markdown",
   "id": "6bf629ef-6616-4a37-8841-290af9e5c0d9",
   "metadata": {},
   "source": [
    "# 导入工具包"
   ]
  },
  {
   "cell_type": "code",
   "execution_count": 1,
   "id": "79f642d3-8a95-44fe-992f-5537b28cd278",
   "metadata": {},
   "outputs": [],
   "source": [
    "import warnings\n",
    "warnings.filterwarnings('ignore')\n",
    "import argparse\n",
    "import numpy as np\n",
    "import networkx as nx\n",
    "from gensim.models import Word2Vec\n",
    "import random\n",
    "\n",
    "import matplotlib.pyplot as plt\n",
    "%matplotlib inline"
   ]
  },
  {
   "cell_type": "markdown",
   "id": "db496ec6-c22f-4174-bc2f-f4ef5cd3eea9",
   "metadata": {},
   "source": [
    "# 读入命令行参数"
   ]
  },
  {
   "cell_type": "code",
   "execution_count": null,
   "id": "221897ba-f30c-4950-9ed0-689104e935aa",
   "metadata": {},
   "outputs": [],
   "source": []
  }
 ],
 "metadata": {
  "kernelspec": {
   "display_name": "Python 3 (ipykernel)",
   "language": "python",
   "name": "python3"
  },
  "language_info": {
   "codemirror_mode": {
    "name": "ipython",
    "version": 3
   },
   "file_extension": ".py",
   "mimetype": "text/x-python",
   "name": "python",
   "nbconvert_exporter": "python",
   "pygments_lexer": "ipython3",
   "version": "3.10.10"
  }
 },
 "nbformat": 4,
 "nbformat_minor": 5
}
