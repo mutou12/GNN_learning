{
 "cells": [
  {
   "cell_type": "markdown",
   "id": "ff9f69dd-0a31-486c-bd98-0b7585960b94",
   "metadata": {},
   "source": [
    "# 导入工具包"
   ]
  },
  {
   "cell_type": "code",
   "execution_count": 1,
   "id": "b742257a-5854-4323-8d16-b5b6f0a11931",
   "metadata": {},
   "outputs": [],
   "source": [
    "import networkx as nx\n",
    "import numpy as np\n",
    "import random\n",
    "import pandas as pd\n",
    "\n",
    "import matplotlib.pyplot as plt\n",
    "import matplotlib as mpl\n",
    "%matplotlib inline\n",
    "plt.rcParams['font.sans-serif'] = ['Microsoft YaHei']\n",
    "plt.rcParams['axes.unicode_minus'] = False"
   ]
  },
  {
   "cell_type": "code",
   "execution_count": 2,
   "id": "419327fe-2ded-4296-8e89-af24a3d90601",
   "metadata": {},
   "outputs": [],
   "source": [
    "import numpy.linalg"
   ]
  },
  {
   "cell_type": "markdown",
   "id": "7f31700f-e019-4b9b-bae2-9b1c8ae624d9",
   "metadata": {},
   "source": [
    "# 创建图"
   ]
  },
  {
   "cell_type": "code",
   "execution_count": 3,
   "id": "c96472ff-333a-43cc-b9da-021b8d9cffaa",
   "metadata": {},
   "outputs": [],
   "source": [
    "n = 1000\n",
    "m = 5000\n",
    "G = nx.gnm_random_graph(n, m, seed=123)"
   ]
  },
  {
   "cell_type": "markdown",
   "id": "d60e9081-8e56-44e3-b601-9ce8f29f889a",
   "metadata": {},
   "source": [
    "# 邻接矩阵"
   ]
  },
  {
   "cell_type": "code",
   "execution_count": 4,
   "id": "24c48842-6a8a-470b-b46d-8bdcd604debb",
   "metadata": {},
   "outputs": [
    {
     "name": "stderr",
     "output_type": "stream",
     "text": [
      "C:\\Users\\Huanuo\\AppData\\Local\\Temp\\ipykernel_16124\\1018844737.py:1: FutureWarning: adjacency_matrix will return a scipy.sparse array instead of a matrix in Networkx 3.0.\n",
      "  A = nx.adjacency_matrix(G)\n"
     ]
    }
   ],
   "source": [
    "A = nx.adjacency_matrix(G)"
   ]
  },
  {
   "cell_type": "code",
   "execution_count": 5,
   "id": "b798744e-8a6d-4f0d-8ddc-a86b49cd3979",
   "metadata": {},
   "outputs": [
    {
     "data": {
      "text/plain": [
       "(1000, 1000)"
      ]
     },
     "execution_count": 5,
     "metadata": {},
     "output_type": "execute_result"
    }
   ],
   "source": [
    "A.shape"
   ]
  },
  {
   "cell_type": "code",
   "execution_count": 6,
   "id": "f7249ed0-611b-4304-8006-6e9155bf4d3a",
   "metadata": {},
   "outputs": [
    {
     "data": {
      "text/plain": [
       "matrix([[0, 0, 0, ..., 0, 0, 0],\n",
       "        [0, 0, 0, ..., 0, 0, 0],\n",
       "        [0, 0, 0, ..., 0, 0, 0],\n",
       "        ...,\n",
       "        [0, 0, 0, ..., 0, 0, 0],\n",
       "        [0, 0, 0, ..., 0, 0, 0],\n",
       "        [0, 0, 0, ..., 0, 0, 0]], dtype=int32)"
      ]
     },
     "execution_count": 6,
     "metadata": {},
     "output_type": "execute_result"
    }
   ],
   "source": [
    "A.todense()"
   ]
  },
  {
   "cell_type": "markdown",
   "id": "641cad9b-0967-462c-8eed-733ca79e8bf7",
   "metadata": {},
   "source": [
    "## 拉普拉斯矩阵\n",
    "\n",
    "L = D-A  \n",
    "\n",
    "L拉普拉斯矩阵、D为节点degree对称矩阵、A为邻接矩阵"
   ]
  },
  {
   "cell_type": "code",
   "execution_count": 8,
   "id": "5725c9ef-a86c-48ca-8266-06d87274cd58",
   "metadata": {},
   "outputs": [
    {
     "name": "stderr",
     "output_type": "stream",
     "text": [
      "<class 'networkx.utils.decorators.argmap'> compilation 8:4: FutureWarning: laplacian_matrix will return a scipy.sparse array instead of a matrix in Networkx 3.0.\n"
     ]
    }
   ],
   "source": [
    "L = nx.laplacian_matrix(G)"
   ]
  },
  {
   "cell_type": "code",
   "execution_count": 9,
   "id": "199b9243-b9cb-417e-9643-abf44b41c308",
   "metadata": {},
   "outputs": [
    {
     "data": {
      "text/plain": [
       "(1000, 1000)"
      ]
     },
     "execution_count": 9,
     "metadata": {},
     "output_type": "execute_result"
    }
   ],
   "source": [
    "L.shape"
   ]
  },
  {
   "cell_type": "code",
   "execution_count": 10,
   "id": "d96d01e6-aa15-4bdd-b3c4-eedbbdb87725",
   "metadata": {},
   "outputs": [],
   "source": [
    "D = L+A"
   ]
  },
  {
   "cell_type": "code",
   "execution_count": 11,
   "id": "c80ac3dd-220d-488c-a3a3-94251557cde0",
   "metadata": {},
   "outputs": [
    {
     "data": {
      "text/plain": [
       "matrix([[12,  0,  0, ...,  0,  0,  0],\n",
       "        [ 0,  8,  0, ...,  0,  0,  0],\n",
       "        [ 0,  0, 13, ...,  0,  0,  0],\n",
       "        ...,\n",
       "        [ 0,  0,  0, ...,  9,  0,  0],\n",
       "        [ 0,  0,  0, ...,  0,  9,  0],\n",
       "        [ 0,  0,  0, ...,  0,  0,  7]], dtype=int32)"
      ]
     },
     "execution_count": 11,
     "metadata": {},
     "output_type": "execute_result"
    }
   ],
   "source": [
    "D.todense()"
   ]
  },
  {
   "cell_type": "markdown",
   "id": "a9cf76b4-8c2b-456b-9da4-2a8abf70bf8b",
   "metadata": {},
   "source": [
    "## 归一化拉普拉斯矩阵\n",
    "\n",
    "$L_n = D^{-1/2}LD^{-1/2}$"
   ]
  },
  {
   "cell_type": "code",
   "execution_count": 12,
   "id": "6e1114a0-3954-422a-83b4-a43de7421520",
   "metadata": {},
   "outputs": [
    {
     "name": "stderr",
     "output_type": "stream",
     "text": [
      "<class 'networkx.utils.decorators.argmap'> compilation 12:4: FutureWarning: normalized_laplacian_matrix will return a scipy.sparse array instead of a matrix in Networkx 3.0.\n"
     ]
    }
   ],
   "source": [
    "L_n = nx.normalized_laplacian_matrix(G)"
   ]
  },
  {
   "cell_type": "code",
   "execution_count": 13,
   "id": "0079d749-9d18-49bd-b261-8405dcc7caa9",
   "metadata": {},
   "outputs": [
    {
     "data": {
      "text/plain": [
       "(1000, 1000)"
      ]
     },
     "execution_count": 13,
     "metadata": {},
     "output_type": "execute_result"
    }
   ],
   "source": [
    "L_n.shape"
   ]
  },
  {
   "cell_type": "code",
   "execution_count": 14,
   "id": "163db06d-a585-4b94-a2d2-21b7ce3bc1bc",
   "metadata": {},
   "outputs": [
    {
     "data": {
      "text/plain": [
       "matrix([[1., 0., 0., ..., 0., 0., 0.],\n",
       "        [0., 1., 0., ..., 0., 0., 0.],\n",
       "        [0., 0., 1., ..., 0., 0., 0.],\n",
       "        ...,\n",
       "        [0., 0., 0., ..., 1., 0., 0.],\n",
       "        [0., 0., 0., ..., 0., 1., 0.],\n",
       "        [0., 0., 0., ..., 0., 0., 1.]])"
      ]
     },
     "execution_count": 14,
     "metadata": {},
     "output_type": "execute_result"
    }
   ],
   "source": [
    "L_n.todense()"
   ]
  },
  {
   "cell_type": "code",
   "execution_count": 15,
   "id": "4456902e-af92-4965-8ef4-52d8238469f5",
   "metadata": {},
   "outputs": [
    {
     "data": {
      "image/png": "[encoded data removed]",
      "text/plain": [
       "<Figure size 640x480 with 1 Axes>"
      ]
     },
     "metadata": {},
     "output_type": "display_data"
    }
   ],
   "source": [
    "plt.imshow(L_n.todense())\n",
    "plt.show()"
   ]
  },
  {
   "cell_type": "code",
   "execution_count": 16,
   "id": "bd4a50c6-d515-4cd3-b66b-684bff894799",
   "metadata": {},
   "outputs": [
    {
     "data": {
      "text/plain": [
       "scipy.sparse._csr.csr_matrix"
      ]
     },
     "execution_count": 16,
     "metadata": {},
     "output_type": "execute_result"
    }
   ],
   "source": [
    "type(L_n)"
   ]
  },
  {
   "cell_type": "markdown",
   "id": "ea9eb12c-9ddc-44b0-800f-c40722915005",
   "metadata": {},
   "source": [
    "## 特征值分解"
   ]
  },
  {
   "cell_type": "code",
   "execution_count": 17,
   "id": "92e078b7-c4a5-42e7-a46c-dbf9d8f406e2",
   "metadata": {},
   "outputs": [],
   "source": [
    "e = np.linalg.eigvals(L_n.A)"
   ]
  },
  {
   "cell_type": "code",
   "execution_count": 18,
   "id": "38855855-e8bc-41aa-a2e1-fdcbd31e7c02",
   "metadata": {
    "scrolled": true,
    "tags": []
   },
   "outputs": [
    {
     "data": {
      "text/plain": [
       "array([-5.24218921e-17,  4.03979412e-01,  4.12354408e-01,  4.13643079e-01,\n",
       "        4.17565930e-01,  4.18623558e-01,  4.19045775e-01,  4.27704559e-01,\n",
       "        4.29629112e-01,  4.30496774e-01,  4.35976102e-01,  4.36270143e-01,\n",
       "        1.59336695e+00,  1.58973311e+00,  1.58290475e+00,  1.58126361e+00,\n",
       "        1.57895059e+00,  1.57645127e+00,  1.57259876e+00,  1.57153593e+00,\n",
       "        1.56934329e+00,  1.56905970e+00,  1.56525818e+00,  1.56370138e+00,\n",
       "        1.56036585e+00,  1.55853790e+00,  1.55743510e+00,  1.55521262e+00,\n",
       "        1.55236718e+00,  1.55177556e+00,  1.55125534e+00,  1.54980595e+00,\n",
       "        1.54758915e+00,  1.54617421e+00,  1.54413910e+00,  1.54176827e+00,\n",
       "        1.53892393e+00,  1.53803002e+00,  1.53731559e+00,  1.53601779e+00,\n",
       "        1.53150076e+00,  1.52984602e+00,  1.52939365e+00,  1.52824259e+00,\n",
       "        1.52791997e+00,  1.52559254e+00,  1.52257678e+00,  1.52069946e+00,\n",
       "        1.52027450e+00,  1.51934551e+00,  1.51793164e+00,  1.51693888e+00,\n",
       "        1.51395878e+00,  1.51251137e+00,  1.51069805e+00,  1.49886078e+00,\n",
       "        1.50081979e+00,  1.50060337e+00,  1.50364564e+00,  1.50429442e+00,\n",
       "        1.50565191e+00,  1.50776627e+00,  1.50757849e+00,  4.39657479e-01,\n",
       "        4.38704910e-01,  4.44875397e-01,  4.44619723e-01,  4.48691311e-01,\n",
       "        4.49712325e-01,  4.50872071e-01,  4.50019718e-01,  4.54979206e-01,\n",
       "        4.56326670e-01,  4.60588163e-01,  4.59880919e-01,  4.57554102e-01,\n",
       "        4.64141647e-01,  4.65838385e-01,  4.67577533e-01,  4.69524850e-01,\n",
       "        4.71831828e-01,  4.73379984e-01,  4.75587310e-01,  4.74547297e-01,\n",
       "        4.77188665e-01,  4.78495844e-01,  4.80327477e-01,  4.79645181e-01,\n",
       "        1.49724811e+00,  1.49619246e+00,  1.49489831e+00,  1.49424522e+00,\n",
       "        1.48984801e+00,  1.48871550e+00,  1.49284803e+00,  1.49291659e+00,\n",
       "        1.48614327e+00,  1.48445481e+00,  1.48366201e+00,  1.48192799e+00,\n",
       "        1.45611680e+00,  1.48100679e+00,  1.47880752e+00,  1.45780821e+00,\n",
       "        1.47779027e+00,  1.47475781e+00,  1.47420699e+00,  1.46025670e+00,\n",
       "        1.45931077e+00,  1.46116006e+00,  1.47762665e+00,  1.47016133e+00,\n",
       "        1.46311181e+00,  1.46520630e+00,  1.46939347e+00,  1.47108380e+00,\n",
       "        1.46760816e+00,  1.47249263e+00,  1.46432234e+00,  1.47658280e+00,\n",
       "        1.46402076e+00,  4.87236190e-01,  4.85613844e-01,  4.82920147e-01,\n",
       "        4.83105754e-01,  4.89962522e-01,  5.03974648e-01,  4.94407161e-01,\n",
       "        4.91817443e-01,  4.89397586e-01,  4.95791781e-01,  4.97149129e-01,\n",
       "        5.02596318e-01,  5.01635169e-01,  4.99176297e-01,  5.00320887e-01,\n",
       "        5.00189220e-01,  1.45109108e+00,  1.45258206e+00,  1.45306142e+00,\n",
       "        1.44832003e+00,  1.43008734e+00,  1.42909255e+00,  1.44682799e+00,\n",
       "        1.44911123e+00,  1.43171737e+00,  1.43251326e+00,  1.44466573e+00,\n",
       "        1.42935829e+00,  1.43537447e+00,  1.44277151e+00,  1.44152575e+00,\n",
       "        1.43862449e+00,  1.44540425e+00,  1.43794444e+00,  1.44116613e+00,\n",
       "        1.43708775e+00,  1.43618771e+00,  5.06979662e-01,  5.06216935e-01,\n",
       "        5.20046826e-01,  5.08971446e-01,  5.12175359e-01,  5.17212046e-01,\n",
       "        5.13544554e-01,  5.09716416e-01,  5.15986400e-01,  5.18590261e-01,\n",
       "        5.15511108e-01,  5.13712063e-01,  1.40637866e+00,  1.40863560e+00,\n",
       "        1.41054285e+00,  1.42394100e+00,  1.42228371e+00,  1.42580475e+00,\n",
       "        1.42734675e+00,  1.41658890e+00,  1.41182440e+00,  1.41859354e+00,\n",
       "        1.41279147e+00,  1.41917138e+00,  1.41752969e+00,  1.42514901e+00,\n",
       "        1.41250115e+00,  1.41437873e+00,  5.22967463e-01,  5.24355155e-01,\n",
       "        5.25199282e-01,  5.27583243e-01,  5.26635510e-01,  5.38050471e-01,\n",
       "        5.32040040e-01,  5.30857886e-01,  5.29389756e-01,  5.35238924e-01,\n",
       "        5.29726537e-01,  5.35994092e-01,  5.35578781e-01,  1.39338540e+00,\n",
       "        1.39783891e+00,  1.39636653e+00,  1.39475427e+00,  1.40001971e+00,\n",
       "        1.39511443e+00,  1.39903857e+00,  1.40511790e+00,  1.39426825e+00,\n",
       "        1.40272065e+00,  1.40413472e+00,  1.40249485e+00,  1.40748399e+00,\n",
       "        1.40673162e+00,  5.50796411e-01,  5.41730421e-01,  5.40522553e-01,\n",
       "        5.44460457e-01,  5.43312541e-01,  5.48907834e-01,  5.46481477e-01,\n",
       "        5.47484572e-01,  5.45658508e-01,  1.37928063e+00,  1.37991600e+00,\n",
       "        1.38226714e+00,  1.38321092e+00,  1.38400533e+00,  1.38643085e+00,\n",
       "        1.39037866e+00,  1.38885575e+00,  1.39258569e+00,  1.38730140e+00,\n",
       "        1.38863098e+00,  1.38681807e+00,  5.62632579e-01,  5.51859845e-01,\n",
       "        5.53031869e-01,  5.53994949e-01,  5.54790203e-01,  5.56240613e-01,\n",
       "        5.59413859e-01,  5.60943000e-01,  5.57979734e-01,  5.58393668e-01,\n",
       "        1.36510337e+00,  1.36602192e+00,  1.36888501e+00,  1.37029042e+00,\n",
       "        1.37116935e+00,  1.37281975e+00,  1.36699466e+00,  1.37811947e+00,\n",
       "        1.37593986e+00,  1.37663860e+00,  1.37371211e+00,  1.37530436e+00,\n",
       "        1.37391228e+00,  5.75642652e-01,  5.63605952e-01,  5.65972638e-01,\n",
       "        5.68865993e-01,  5.64874809e-01,  5.67110458e-01,  5.67270695e-01,\n",
       "        5.72902264e-01,  5.71333305e-01,  5.74298366e-01,  5.74009733e-01,\n",
       "        1.36166316e+00,  1.35998719e+00,  1.35828660e+00,  1.36067768e+00,\n",
       "        1.34710007e+00,  1.34734101e+00,  1.35723599e+00,  1.35437667e+00,\n",
       "        1.35604827e+00,  1.35502611e+00,  1.35200219e+00,  1.34919229e+00,\n",
       "        1.34857116e+00,  1.35247179e+00,  1.35926375e+00,  1.35014018e+00,\n",
       "        5.77148231e-01,  5.77423276e-01,  5.78525242e-01,  5.79279440e-01,\n",
       "        5.80520546e-01,  5.81993974e-01,  5.82721243e-01,  5.83955021e-01,\n",
       "        5.84604742e-01,  5.85424196e-01,  5.86873321e-01,  5.88565393e-01,\n",
       "        5.89352361e-01,  5.91954837e-01,  5.93010580e-01,  1.34570651e+00,\n",
       "        1.34319011e+00,  1.34447144e+00,  1.34125821e+00,  5.93896204e-01,\n",
       "        5.95629282e-01,  5.96972831e-01,  5.97838591e-01,  1.33968698e+00,\n",
       "        1.33844462e+00,  1.33687589e+00,  6.00732021e-01,  5.98906958e-01,\n",
       "        1.33460272e+00,  1.33821247e+00,  1.33437525e+00,  1.33113539e+00,\n",
       "        1.33181008e+00,  1.33241827e+00,  6.00318709e-01,  6.02710760e-01,\n",
       "        6.03672289e-01,  6.05544290e-01,  6.05607429e-01,  6.23262611e-01,\n",
       "        6.21952039e-01,  6.07033425e-01,  6.07627533e-01,  6.10111077e-01,\n",
       "        6.11259690e-01,  6.20366567e-01,  6.12829123e-01,  6.19453496e-01,\n",
       "        6.17894209e-01,  6.15558480e-01,  6.13684717e-01,  6.14481953e-01,\n",
       "        6.08269180e-01,  6.19080192e-01,  1.32939396e+00,  1.32783901e+00,\n",
       "        1.32851911e+00,  1.32716242e+00,  1.32500566e+00,  1.32422474e+00,\n",
       "        1.32313071e+00,  1.29568081e+00,  1.32233512e+00,  1.32078201e+00,\n",
       "        1.32023539e+00,  1.31877443e+00,  1.31953016e+00,  1.31742859e+00,\n",
       "        1.29753366e+00,  1.29844281e+00,  1.31619863e+00,  1.30156241e+00,\n",
       "        1.30261325e+00,  1.29976038e+00,  1.31544002e+00,  1.31482007e+00,\n",
       "        1.29956506e+00,  1.30405389e+00,  1.31090925e+00,  1.31333993e+00,\n",
       "        1.30730943e+00,  1.30666790e+00,  1.30604991e+00,  1.30878384e+00,\n",
       "        1.30974005e+00,  1.31062006e+00,  6.26690846e-01,  6.25143552e-01,\n",
       "        6.23891102e-01,  1.29085826e+00,  1.29197952e+00,  1.29348227e+00,\n",
       "        1.29535539e+00,  1.29613944e+00,  6.34126475e-01,  6.28959772e-01,\n",
       "        6.33210538e-01,  6.29190973e-01,  6.30561657e-01,  6.32566148e-01,\n",
       "        6.29566028e-01,  1.28154802e+00,  1.28285092e+00,  1.28653766e+00,\n",
       "        1.28100500e+00,  1.28903649e+00,  1.28400763e+00,  1.28465232e+00,\n",
       "        1.28811209e+00,  1.28793365e+00,  6.36617324e-01,  6.38786965e-01,\n",
       "        6.40022611e-01,  6.39094803e-01,  6.41633345e-01,  6.39344465e-01,\n",
       "        6.42950084e-01,  6.43621792e-01,  6.45680913e-01,  6.45554711e-01,\n",
       "        6.48425802e-01,  6.49584210e-01,  6.50967224e-01,  6.51807536e-01,\n",
       "        6.52465916e-01,  6.54918675e-01,  6.54134453e-01,  1.28047150e+00,\n",
       "        1.27934132e+00,  6.52916154e-01,  1.26935061e+00,  1.27508223e+00,\n",
       "        1.27598219e+00,  1.27741566e+00,  1.27688038e+00,  1.27099290e+00,\n",
       "        1.27231897e+00,  1.27322663e+00,  1.27278653e+00,  6.57603128e-01,\n",
       "        6.56521058e-01,  6.59209387e-01,  6.68014685e-01,  6.66911171e-01,\n",
       "        6.65284120e-01,  6.63182419e-01,  6.61010115e-01,  6.64268103e-01,\n",
       "        6.69499400e-01,  6.61405425e-01,  1.26379651e+00,  1.26453394e+00,\n",
       "        1.26724624e+00,  1.26587437e+00,  1.26643467e+00,  1.26650147e+00,\n",
       "        1.26228082e+00,  1.25986311e+00,  1.26041749e+00,  1.25531423e+00,\n",
       "        1.25776130e+00,  1.25939319e+00,  1.25685300e+00,  1.25736647e+00,\n",
       "        1.25299404e+00,  1.25413324e+00,  1.25084719e+00,  1.25063412e+00,\n",
       "        1.24812120e+00,  1.24727037e+00,  1.22644255e+00,  1.22808263e+00,\n",
       "        1.22848034e+00,  1.22948061e+00,  1.23298440e+00,  1.23354661e+00,\n",
       "        1.24467228e+00,  1.24064425e+00,  1.24547921e+00,  1.24362154e+00,\n",
       "        1.23803795e+00,  1.23039390e+00,  1.24333956e+00,  1.24432225e+00,\n",
       "        1.23482766e+00,  1.23676451e+00,  1.23529413e+00,  1.23926636e+00,\n",
       "        1.24183531e+00,  1.23565902e+00,  6.72045404e-01,  6.70238222e-01,\n",
       "        6.72444540e-01,  6.74063845e-01,  6.78245655e-01,  6.76848569e-01,\n",
       "        6.75425577e-01,  6.76091397e-01,  1.22319859e+00,  1.22374848e+00,\n",
       "        1.22188289e+00,  1.22573261e+00,  6.77982030e-01,  6.80848598e-01,\n",
       "        6.81292145e-01,  6.81687542e-01,  6.83745340e-01,  6.84409970e-01,\n",
       "        6.87704953e-01,  6.85218420e-01,  6.89954654e-01,  6.91918598e-01,\n",
       "        6.91132017e-01,  6.93163783e-01,  6.86461256e-01,  6.94379896e-01,\n",
       "        6.86030063e-01,  6.94943968e-01,  1.21881034e+00,  1.21840718e+00,\n",
       "        1.20787393e+00,  1.21314070e+00,  1.21712393e+00,  1.21517123e+00,\n",
       "        1.21668945e+00,  1.21110118e+00,  1.20888139e+00,  1.20935301e+00,\n",
       "        1.21399518e+00,  1.21686011e+00,  6.96454433e-01,  7.13884795e-01,\n",
       "        7.13009466e-01,  6.96264947e-01,  7.11755761e-01,  7.10674502e-01,\n",
       "        7.09545952e-01,  6.99326846e-01,  7.00465766e-01,  7.08075359e-01,\n",
       "        7.06490703e-01,  7.01624090e-01,  6.97463372e-01,  6.98414919e-01,\n",
       "        7.04689205e-01,  7.03599718e-01,  7.03511572e-01,  1.20432372e+00,\n",
       "        1.20572417e+00,  1.20652627e+00,  1.20244624e+00,  1.20188701e+00,\n",
       "        1.20056686e+00,  1.20046356e+00,  1.19781735e+00,  1.19916755e+00,\n",
       "        1.19848594e+00,  1.19437341e+00,  1.19537404e+00,  1.19604289e+00,\n",
       "        1.19237686e+00,  1.19287072e+00,  1.19119578e+00,  1.18979327e+00,\n",
       "        1.19083292e+00,  1.18857457e+00,  1.17602995e+00,  1.17656321e+00,\n",
       "        1.17886963e+00,  1.17967749e+00,  1.17789741e+00,  1.18272731e+00,\n",
       "        1.18453600e+00,  1.18556569e+00,  1.18706440e+00,  1.18176691e+00,\n",
       "        1.18172284e+00,  1.18641329e+00,  7.15688536e-01,  7.16640049e-01,\n",
       "        7.21010754e-01,  7.17492484e-01,  7.18331258e-01,  1.17123779e+00,\n",
       "        1.17238337e+00,  1.17480496e+00,  1.17544644e+00,  1.17295680e+00,\n",
       "        7.22093452e-01,  7.22907150e-01,  7.24762397e-01,  7.19254629e-01,\n",
       "        7.19758332e-01,  7.25853979e-01,  7.27310104e-01,  7.27970798e-01,\n",
       "        7.29789176e-01,  7.30569924e-01,  7.32252951e-01,  7.32594728e-01,\n",
       "        1.15667142e+00,  1.17009030e+00,  1.16812938e+00,  1.16778397e+00,\n",
       "        1.16452201e+00,  1.16527835e+00,  1.16213758e+00,  1.16283677e+00,\n",
       "        1.15606337e+00,  1.15902490e+00,  1.15865462e+00,  1.15956270e+00,\n",
       "        1.16075621e+00,  1.16690885e+00,  7.34369838e-01,  7.35642445e-01,\n",
       "        7.35889986e-01,  7.36460577e-01,  7.39279508e-01,  7.52214787e-01,\n",
       "        7.50520476e-01,  7.38041527e-01,  7.37323193e-01,  7.49697010e-01,\n",
       "        7.49341331e-01,  7.42265302e-01,  7.47539552e-01,  7.46366728e-01,\n",
       "        7.43166695e-01,  7.45112375e-01,  7.44397551e-01,  7.43528584e-01,\n",
       "        1.15519952e+00,  1.15403956e+00,  1.15030755e+00,  1.15230778e+00,\n",
       "        1.15187427e+00,  1.14788181e+00,  1.14943662e+00,  1.14652300e+00,\n",
       "        1.14689614e+00,  1.14398899e+00,  1.14335817e+00,  1.14464177e+00,\n",
       "        1.14245184e+00,  1.14110499e+00,  1.14150807e+00,  1.13709599e+00,\n",
       "        1.12909611e+00,  1.12940055e+00,  1.13150580e+00,  1.13031353e+00,\n",
       "        1.13874788e+00,  1.12827287e+00,  1.13943583e+00,  1.13680705e+00,\n",
       "        1.13483801e+00,  1.13396812e+00,  1.13378390e+00,  7.58223946e-01,\n",
       "        7.56702570e-01,  7.53598678e-01,  7.51699508e-01,  7.55039803e-01,\n",
       "        7.54884232e-01,  1.12151839e+00,  1.12097336e+00,  1.12590663e+00,\n",
       "        1.12230461e+00,  1.12565405e+00,  7.59383301e-01,  7.59966086e-01,\n",
       "        7.62217717e-01,  7.60925656e-01,  7.63174330e-01,  7.67444764e-01,\n",
       "        7.65356946e-01,  7.64558311e-01,  7.68466108e-01,  7.66676893e-01,\n",
       "        1.10621147e+00,  1.11643621e+00,  1.11821778e+00,  1.11470423e+00,\n",
       "        1.12634560e+00,  1.11202313e+00,  1.10886637e+00,  1.11893028e+00,\n",
       "        1.11929586e+00,  1.11427078e+00,  1.11080717e+00,  1.11311347e+00,\n",
       "        1.11127454e+00,  7.71190888e-01,  7.71344638e-01,  7.72267865e-01,\n",
       "        7.73650487e-01,  7.73976760e-01,  7.76884052e-01,  7.78212852e-01,\n",
       "        7.87691417e-01,  7.71848808e-01,  7.85874787e-01,  7.80292979e-01,\n",
       "        7.85074946e-01,  7.84205182e-01,  7.82692946e-01,  7.81002986e-01,\n",
       "        7.81373488e-01,  7.82547681e-01,  1.10881191e+00,  1.10728132e+00,\n",
       "        1.10740175e+00,  1.10424894e+00,  1.10377868e+00,  1.09690170e+00,\n",
       "        1.09953983e+00,  1.09563214e+00,  1.10119354e+00,  1.10306249e+00,\n",
       "        1.09818417e+00,  1.10246570e+00,  1.09455631e+00,  1.10003484e+00,\n",
       "        1.09325210e+00,  1.08156827e+00,  1.08195823e+00,  1.09130238e+00,\n",
       "        1.09192904e+00,  1.08020454e+00,  1.08708584e+00,  1.08926220e+00,\n",
       "        1.08938583e+00,  1.08778834e+00,  1.08271044e+00,  1.08597677e+00,\n",
       "        1.08497432e+00,  1.08421990e+00,  7.88822292e-01,  7.92292916e-01,\n",
       "        7.89341457e-01,  7.90423983e-01,  1.07648542e+00,  1.07595375e+00,\n",
       "        1.07840652e+00,  7.93250127e-01,  8.06353598e-01,  7.92873853e-01,\n",
       "        8.05569564e-01,  8.04838820e-01,  7.97003138e-01,  8.03030382e-01,\n",
       "        1.07849007e+00,  1.07340670e+00,  1.06824877e+00,  1.06657106e+00,\n",
       "        7.98575448e-01,  7.98796532e-01,  8.00176294e-01,  8.01292020e-01,\n",
       "        1.07101814e+00,  1.07391201e+00,  8.00703013e-01,  7.95140077e-01,\n",
       "        7.95354981e-01,  1.06501887e+00,  1.06478404e+00,  1.07000095e+00,\n",
       "        7.99294521e-01,  8.09085264e-01,  8.09700989e-01,  8.10678022e-01,\n",
       "        8.11683911e-01,  8.12784608e-01,  8.13663929e-01,  8.24698475e-01,\n",
       "        8.23792056e-01,  8.15038811e-01,  8.15626486e-01,  8.18670341e-01,\n",
       "        8.19950929e-01,  8.17197755e-01,  8.21382726e-01,  8.21481617e-01,\n",
       "        8.16960083e-01,  1.07088433e+00,  1.06280854e+00,  1.06802552e+00,\n",
       "        1.06200812e+00,  1.06013147e+00,  1.06048474e+00,  1.05887838e+00,\n",
       "        1.05769400e+00,  1.05702307e+00,  1.05566209e+00,  1.05405819e+00,\n",
       "        1.05305745e+00,  1.05187746e+00,  1.04103125e+00,  1.03873471e+00,\n",
       "        1.03940341e+00,  1.03905195e+00,  1.05011303e+00,  1.05241212e+00,\n",
       "        1.04821485e+00,  1.04538792e+00,  1.04842944e+00,  1.04685085e+00,\n",
       "        1.04209718e+00,  1.04407902e+00,  1.04355435e+00,  1.04313225e+00,\n",
       "        8.25191658e-01,  8.27386349e-01,  1.03441478e+00,  1.03496030e+00,\n",
       "        8.28024124e-01,  8.26746570e-01,  8.29556557e-01,  8.30858239e-01,\n",
       "        8.32782781e-01,  8.33606597e-01,  8.34251721e-01,  8.37325155e-01,\n",
       "        8.35109744e-01,  1.03231229e+00,  1.03121320e+00,  1.03352801e+00,\n",
       "        1.03100763e+00,  1.02934380e+00,  1.02821656e+00,  1.02867688e+00,\n",
       "        1.02263368e+00,  1.02332640e+00,  1.02499176e+00,  1.02688275e+00,\n",
       "        1.02657533e+00,  8.36199139e-01,  8.38707019e-01,  8.40962314e-01,\n",
       "        8.45046227e-01,  8.42635491e-01,  8.42369578e-01,  8.47759448e-01,\n",
       "        8.45928299e-01,  8.44382764e-01,  8.41347019e-01,  8.48359540e-01,\n",
       "        8.38135204e-01,  8.50188667e-01,  8.52287048e-01,  8.51714447e-01,\n",
       "        8.68914115e-01,  1.02557910e+00,  8.54390596e-01,  8.67327478e-01,\n",
       "        8.57135340e-01,  8.65567747e-01,  8.64562094e-01,  8.55764316e-01,\n",
       "        8.57564005e-01,  1.02093175e+00,  1.01892387e+00,  8.62878738e-01,\n",
       "        8.58529069e-01,  8.59610629e-01,  1.02133025e+00,  1.01443428e+00,\n",
       "        1.01560084e+00,  1.01701221e+00,  1.01748928e+00,  1.01603201e+00,\n",
       "        1.01343016e+00,  1.01068561e+00,  1.00503673e+00,  1.00639392e+00,\n",
       "        1.00756964e+00,  1.00881774e+00,  1.00399476e+00,  1.00293927e+00,\n",
       "        8.61516265e-01,  9.88230006e-01,  1.00177911e+00,  1.01164661e+00,\n",
       "        1.01245478e+00,  9.90906806e-01,  8.61322970e-01,  9.92663555e-01,\n",
       "        9.90152727e-01,  9.94432628e-01,  9.93948931e-01,  1.01203823e+00,\n",
       "        9.95668433e-01,  9.97415595e-01,  9.99187217e-01,  1.00004842e+00,\n",
       "        9.98609630e-01,  8.80077786e-01,  8.76955283e-01,  8.78373328e-01,\n",
       "        8.75643225e-01,  8.73439481e-01,  8.70466322e-01,  9.86252060e-01,\n",
       "        9.87059524e-01,  8.92879474e-01,  8.92180227e-01,  8.90867992e-01,\n",
       "        8.89988712e-01,  8.88304732e-01,  9.81644555e-01,  8.83851445e-01,\n",
       "        8.85384768e-01,  8.86029690e-01,  9.83283090e-01,  8.71705159e-01,\n",
       "        8.82857503e-01,  8.80916848e-01,  9.84678233e-01,  9.89093478e-01,\n",
       "        8.55050480e-01,  9.00745961e-01,  8.94283452e-01,  8.98780752e-01,\n",
       "        9.75922140e-01,  8.96226040e-01,  9.79616833e-01,  9.77396366e-01,\n",
       "        8.97968049e-01,  9.74795915e-01,  9.78772531e-01,  8.81672551e-01,\n",
       "        8.77704393e-01,  9.84968607e-01,  9.03270230e-01,  9.03002377e-01,\n",
       "        9.38276587e-01,  9.39307910e-01,  9.34759909e-01,  9.36372878e-01,\n",
       "        9.32339866e-01,  9.31537741e-01,  9.12785967e-01,  9.13655690e-01,\n",
       "        9.14458477e-01,  9.21603982e-01,  9.18697249e-01,  9.20442809e-01,\n",
       "        9.69536854e-01,  9.68538152e-01,  9.67899474e-01,  9.72456532e-01,\n",
       "        8.96976865e-01,  9.29798504e-01,  9.73321409e-01,  9.66374265e-01,\n",
       "        9.78968545e-01,  9.11259674e-01,  9.17892269e-01,  9.77827708e-01,\n",
       "        9.73522436e-01,  9.71550106e-01,  9.66199760e-01,  8.50961730e-01,\n",
       "        8.66364326e-01,  8.70744520e-01,  8.72231344e-01,  8.94717790e-01,\n",
       "        9.05250570e-01,  9.05918881e-01,  9.08174414e-01,  9.49241124e-01,\n",
       "        9.46222161e-01,  9.71705594e-01,  9.48993442e-01,  9.56944774e-01,\n",
       "        9.35872701e-01,  9.61534191e-01,  9.23575041e-01,  9.58509201e-01,\n",
       "        9.60664284e-01,  9.26269687e-01,  9.29014200e-01,  9.19919070e-01,\n",
       "        9.55052991e-01,  9.04321062e-01,  9.43739193e-01,  9.40368669e-01,\n",
       "        9.16276443e-01,  9.28009109e-01,  8.72169546e-01,  8.86545173e-01,\n",
       "        9.63297839e-01,  9.58045202e-01,  9.59397288e-01,  9.46885950e-01,\n",
       "        9.07601072e-01,  9.15613756e-01,  9.51172327e-01,  9.10039027e-01,\n",
       "        9.60115716e-01,  9.09878212e-01,  9.41023035e-01,  9.63083546e-01,\n",
       "        9.06930503e-01,  9.24039550e-01,  9.28448988e-01,  9.52692104e-01,\n",
       "        9.51740269e-01,  9.24342182e-01,  9.41250865e-01,  9.27043477e-01,\n",
       "        9.54455423e-01,  9.51540440e-01,  9.43290050e-01,  9.43271290e-01])"
      ]
     },
     "execution_count": 18,
     "metadata": {},
     "output_type": "execute_result"
    }
   ],
   "source": [
    "e"
   ]
  },
  {
   "cell_type": "code",
   "execution_count": 19,
   "id": "82141b41-a857-46f0-a0c6-9395b9eb9d0f",
   "metadata": {},
   "outputs": [
    {
     "data": {
      "text/plain": [
       "1.5933669450654486"
      ]
     },
     "execution_count": 19,
     "metadata": {},
     "output_type": "execute_result"
    }
   ],
   "source": [
    "max(e)"
   ]
  },
  {
   "cell_type": "code",
   "execution_count": 20,
   "id": "49226676-c690-4faa-b19f-fd9c64f59db8",
   "metadata": {},
   "outputs": [
    {
     "data": {
      "text/plain": [
       "-5.242189214288543e-17"
      ]
     },
     "execution_count": 20,
     "metadata": {},
     "output_type": "execute_result"
    }
   ],
   "source": [
    "min(e)"
   ]
  },
  {
   "cell_type": "markdown",
   "id": "4bbc7941-e8f4-426c-acdc-2ecf52acc0d8",
   "metadata": {},
   "source": [
    "## 特征分布直方图"
   ]
  },
  {
   "cell_type": "code",
   "execution_count": 23,
   "id": "57fbfe71-77b8-445e-bce6-4cd920f39331",
   "metadata": {},
   "outputs": [
    {
     "data": {
      "image/png": "[encoded data removed]",
      "text/plain": [
       "<Figure size 1200x800 with 1 Axes>"
      ]
     },
     "metadata": {},
     "output_type": "display_data"
    }
   ],
   "source": [
    "plt.figure(figsize=(12, 8))\n",
    "\n",
    "plt.hist(e, bins=100)\n",
    "plt.xlim(0, 2)\n",
    "\n",
    "plt.title('Eigenvalue Histogram', fontsize=20)\n",
    "plt.ylabel('Frequency', fontsize=25)\n",
    "plt.xlabel('Eigenvalue', fontsize=25)\n",
    "plt.tick_params(labelsize=20)\n",
    "plt.show()"
   ]
  },
  {
   "cell_type": "code",
   "execution_count": null,
   "id": "2dccdc03-84e9-4156-8eb6-9c6a4b01b607",
   "metadata": {},
   "outputs": [],
   "source": []
  }
 ],
 "metadata": {
  "kernelspec": {
   "display_name": "Python 3 (ipykernel)",
   "language": "python",
   "name": "python3"
  },
  "language_info": {
   "codemirror_mode": {
    "name": "ipython",
    "version": 3
   },
   "file_extension": ".py",
   "mimetype": "text/x-python",
   "name": "python",
   "nbconvert_exporter": "python",
   "pygments_lexer": "ipython3",
   "version": "3.10.10"
  }
 },
 "nbformat": 4,
 "nbformat_minor": 5
}
