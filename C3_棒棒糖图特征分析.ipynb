{
 "cells": [
  {
   "cell_type": "markdown",
   "id": "08918d7b-540a-494f-8550-495d3cf57b95",
   "metadata": {},
   "source": [
    "# 导入工具包"
   ]
  },
  {
   "cell_type": "code",
   "execution_count": 1,
   "id": "7bcd98e4-fb1b-47e5-9026-e796d462f465",
   "metadata": {},
   "outputs": [],
   "source": [
    "import networkx as nx\n",
    "import numpy as np\n",
    "import random\n",
    "import pandas as pd\n",
    "\n",
    "import matplotlib.pyplot as plt\n",
    "import matplotlib as mpl\n",
    "%matplotlib inline\n",
    "plt.rcParams['font.sans-serif'] = ['SimHei']\n",
    "plt.rcParams['axes.unicode_minus'] = False"
   ]
  },
  {
   "cell_type": "markdown",
   "id": "98611c59-6ed7-4bab-be73-9af4c17c9c49",
   "metadata": {},
   "source": [
    "# 导入图"
   ]
  },
  {
   "cell_type": "code",
   "execution_count": 2,
   "id": "2611b4b7-32ff-4204-8569-d4c72aa8cec8",
   "metadata": {},
   "outputs": [],
   "source": [
    "G = nx.lollipop_graph(4, 7)"
   ]
  },
  {
   "cell_type": "code",
   "execution_count": 7,
   "id": "4771aaaa-2225-457b-bf12-e380d598dae9",
   "metadata": {},
   "outputs": [
    {
     "data": {
      "image/png": "[encoded data removed]",
      "text/plain": [
       "<Figure size 640x480 with 1 Axes>"
      ]
     },
     "metadata": {},
     "output_type": "display_data"
    }
   ],
   "source": [
    "nx.draw(G, with_labels=True)"
   ]
  },
  {
   "cell_type": "markdown",
   "id": "1d558311-3af2-4fb7-8493-c28958090ffb",
   "metadata": {},
   "source": [
    "# 图数据分析"
   ]
  },
  {
   "cell_type": "code",
   "execution_count": 4,
   "id": "82602704-7526-4f3b-b617-664b784ef5da",
   "metadata": {},
   "outputs": [
    {
     "data": {
      "text/plain": [
       "4"
      ]
     },
     "execution_count": 4,
     "metadata": {},
     "output_type": "execute_result"
    }
   ],
   "source": [
    "nx.radius(G)"
   ]
  },
  {
   "cell_type": "code",
   "execution_count": 5,
   "id": "1651cc2c-c3b5-4d3e-83c4-2918634da0e8",
   "metadata": {},
   "outputs": [
    {
     "data": {
      "text/plain": [
       "8"
      ]
     },
     "execution_count": 5,
     "metadata": {},
     "output_type": "execute_result"
    }
   ],
   "source": [
    "nx.diameter(G)"
   ]
  },
  {
   "cell_type": "code",
   "execution_count": 6,
   "id": "ec06734d-9ac3-4254-baf8-c7d342eed6a4",
   "metadata": {},
   "outputs": [
    {
     "data": {
      "text/plain": [
       "{0: 8, 1: 8, 2: 8, 3: 7, 4: 6, 5: 5, 6: 4, 7: 5, 8: 6, 9: 7, 10: 8}"
      ]
     },
     "execution_count": 6,
     "metadata": {},
     "output_type": "execute_result"
    }
   ],
   "source": [
    "nx.eccentricity(G)"
   ]
  },
  {
   "cell_type": "code",
   "execution_count": 8,
   "id": "22949de4-b38f-4f38-ab58-c122f3a33145",
   "metadata": {},
   "outputs": [
    {
     "data": {
      "text/plain": [
       "[6]"
      ]
     },
     "execution_count": 8,
     "metadata": {},
     "output_type": "execute_result"
    }
   ],
   "source": [
    "nx.center(G)"
   ]
  },
  {
   "cell_type": "code",
   "execution_count": 9,
   "id": "2435d65f-0cf1-4751-9ba7-6631d63b3974",
   "metadata": {},
   "outputs": [
    {
     "data": {
      "text/plain": [
       "[0, 1, 2, 10]"
      ]
     },
     "execution_count": 9,
     "metadata": {},
     "output_type": "execute_result"
    }
   ],
   "source": [
    "nx.periphery(G)"
   ]
  },
  {
   "cell_type": "code",
   "execution_count": 10,
   "id": "480c8e31-824d-451e-b4b9-3922769784b6",
   "metadata": {},
   "outputs": [
    {
     "data": {
      "text/plain": [
       "0.23636363636363636"
      ]
     },
     "execution_count": 10,
     "metadata": {},
     "output_type": "execute_result"
    }
   ],
   "source": [
    "nx.density(G)"
   ]
  },
  {
   "cell_type": "markdown",
   "id": "aeafe012-8849-4b3b-8d6a-529436333820",
   "metadata": {},
   "source": [
    "# 3号节点到图中其他节点的最短距离"
   ]
  },
  {
   "cell_type": "code",
   "execution_count": 11,
   "id": "f3998395-fd42-4292-b611-3dfa1b47c1a2",
   "metadata": {},
   "outputs": [
    {
     "data": {
      "text/plain": [
       "{3: 0, 0: 1, 1: 1, 2: 1, 4: 1, 5: 2, 6: 3, 7: 4, 8: 5, 9: 6, 10: 7}"
      ]
     },
     "execution_count": 11,
     "metadata": {},
     "output_type": "execute_result"
    }
   ],
   "source": [
    "node_id = 3\n",
    "nx.single_source_shortest_path_length(G, node_id)"
   ]
  },
  {
   "cell_type": "markdown",
   "id": "13179af5-a75c-452c-8339-fb5faa9a50a5",
   "metadata": {},
   "source": [
    "# 每两个节点之间的最短距离"
   ]
  },
  {
   "cell_type": "code",
   "execution_count": 12,
   "id": "d9c7d93e-d8a1-4338-ba17-caed0a44739b",
   "metadata": {
    "scrolled": true,
    "tags": []
   },
   "outputs": [
    {
     "name": "stdout",
     "output_type": "stream",
     "text": [
      "0 ---> 0 最短距离 0\n",
      "0 ---> 1 最短距离 1\n",
      "0 ---> 2 最短距离 1\n",
      "0 ---> 3 最短距离 1\n",
      "0 ---> 4 最短距离 2\n",
      "0 ---> 5 最短距离 3\n",
      "0 ---> 6 最短距离 4\n",
      "0 ---> 7 最短距离 5\n",
      "0 ---> 8 最短距离 6\n",
      "0 ---> 9 最短距离 7\n",
      "0 ---> 10 最短距离 8\n",
      "1 ---> 1 最短距离 0\n",
      "1 ---> 0 最短距离 1\n",
      "1 ---> 2 最短距离 1\n",
      "1 ---> 3 最短距离 1\n",
      "1 ---> 4 最短距离 2\n",
      "1 ---> 5 最短距离 3\n",
      "1 ---> 6 最短距离 4\n",
      "1 ---> 7 最短距离 5\n",
      "1 ---> 8 最短距离 6\n",
      "1 ---> 9 最短距离 7\n",
      "1 ---> 10 最短距离 8\n",
      "2 ---> 2 最短距离 0\n",
      "2 ---> 0 最短距离 1\n",
      "2 ---> 1 最短距离 1\n",
      "2 ---> 3 最短距离 1\n",
      "2 ---> 4 最短距离 2\n",
      "2 ---> 5 最短距离 3\n",
      "2 ---> 6 最短距离 4\n",
      "2 ---> 7 最短距离 5\n",
      "2 ---> 8 最短距离 6\n",
      "2 ---> 9 最短距离 7\n",
      "2 ---> 10 最短距离 8\n",
      "3 ---> 3 最短距离 0\n",
      "3 ---> 0 最短距离 1\n",
      "3 ---> 1 最短距离 1\n",
      "3 ---> 2 最短距离 1\n",
      "3 ---> 4 最短距离 1\n",
      "3 ---> 5 最短距离 2\n",
      "3 ---> 6 最短距离 3\n",
      "3 ---> 7 最短距离 4\n",
      "3 ---> 8 最短距离 5\n",
      "3 ---> 9 最短距离 6\n",
      "3 ---> 10 最短距离 7\n",
      "4 ---> 4 最短距离 0\n",
      "4 ---> 3 最短距离 1\n",
      "4 ---> 5 最短距离 1\n",
      "4 ---> 0 最短距离 2\n",
      "4 ---> 1 最短距离 2\n",
      "4 ---> 2 最短距离 2\n",
      "4 ---> 6 最短距离 2\n",
      "4 ---> 7 最短距离 3\n",
      "4 ---> 8 最短距离 4\n",
      "4 ---> 9 最短距离 5\n",
      "4 ---> 10 最短距离 6\n",
      "5 ---> 5 最短距离 0\n",
      "5 ---> 4 最短距离 1\n",
      "5 ---> 6 最短距离 1\n",
      "5 ---> 3 最短距离 2\n",
      "5 ---> 7 最短距离 2\n",
      "5 ---> 0 最短距离 3\n",
      "5 ---> 1 最短距离 3\n",
      "5 ---> 2 最短距离 3\n",
      "5 ---> 8 最短距离 3\n",
      "5 ---> 9 最短距离 4\n",
      "5 ---> 10 最短距离 5\n",
      "6 ---> 6 最短距离 0\n",
      "6 ---> 5 最短距离 1\n",
      "6 ---> 7 最短距离 1\n",
      "6 ---> 8 最短距离 2\n",
      "6 ---> 4 最短距离 2\n",
      "6 ---> 9 最短距离 3\n",
      "6 ---> 3 最短距离 3\n",
      "6 ---> 0 最短距离 4\n",
      "6 ---> 1 最短距离 4\n",
      "6 ---> 2 最短距离 4\n",
      "6 ---> 10 最短距离 4\n",
      "7 ---> 7 最短距离 0\n",
      "7 ---> 8 最短距离 1\n",
      "7 ---> 6 最短距离 1\n",
      "7 ---> 9 最短距离 2\n",
      "7 ---> 5 最短距离 2\n",
      "7 ---> 10 最短距离 3\n",
      "7 ---> 4 最短距离 3\n",
      "7 ---> 3 最短距离 4\n",
      "7 ---> 0 最短距离 5\n",
      "7 ---> 1 最短距离 5\n",
      "7 ---> 2 最短距离 5\n",
      "8 ---> 8 最短距离 0\n",
      "8 ---> 9 最短距离 1\n",
      "8 ---> 7 最短距离 1\n",
      "8 ---> 10 最短距离 2\n",
      "8 ---> 6 最短距离 2\n",
      "8 ---> 5 最短距离 3\n",
      "8 ---> 4 最短距离 4\n",
      "8 ---> 3 最短距离 5\n",
      "8 ---> 0 最短距离 6\n",
      "8 ---> 1 最短距离 6\n",
      "8 ---> 2 最短距离 6\n",
      "9 ---> 9 最短距离 0\n",
      "9 ---> 8 最短距离 1\n",
      "9 ---> 10 最短距离 1\n",
      "9 ---> 7 最短距离 2\n",
      "9 ---> 6 最短距离 3\n",
      "9 ---> 5 最短距离 4\n",
      "9 ---> 4 最短距离 5\n",
      "9 ---> 3 最短距离 6\n",
      "9 ---> 0 最短距离 7\n",
      "9 ---> 1 最短距离 7\n",
      "9 ---> 2 最短距离 7\n",
      "10 ---> 10 最短距离 0\n",
      "10 ---> 9 最短距离 1\n",
      "10 ---> 8 最短距离 2\n",
      "10 ---> 7 最短距离 3\n",
      "10 ---> 6 最短距离 4\n",
      "10 ---> 5 最短距离 5\n",
      "10 ---> 4 最短距离 6\n",
      "10 ---> 3 最短距离 7\n",
      "10 ---> 0 最短距离 8\n",
      "10 ---> 1 最短距离 8\n",
      "10 ---> 2 最短距离 8\n"
     ]
    }
   ],
   "source": [
    "pathlengths = []\n",
    "for v in G.nodes():\n",
    "    spl = nx.single_source_shortest_path_length(G, v)\n",
    "    for p in spl:\n",
    "        print(f'{v} ---> {p} 最短距离 {spl[p]}')\n",
    "        pathlengths.append(spl[p])"
   ]
  },
  {
   "cell_type": "code",
   "execution_count": 13,
   "id": "50a7b0f5-fe78-4580-ad66-76d259c43fd1",
   "metadata": {},
   "outputs": [
    {
     "data": {
      "text/plain": [
       "3.2231404958677685"
      ]
     },
     "execution_count": 13,
     "metadata": {},
     "output_type": "execute_result"
    }
   ],
   "source": [
    "sum(pathlengths) / len(pathlengths)"
   ]
  },
  {
   "cell_type": "markdown",
   "id": "e84dc61d-3d4e-4383-afe8-41bf2a20461b",
   "metadata": {},
   "source": [
    "# 不同距离的节点对个数"
   ]
  },
  {
   "cell_type": "code",
   "execution_count": 15,
   "id": "1fc26c56-17a0-4c94-b34d-ebc09abec6dc",
   "metadata": {},
   "outputs": [],
   "source": [
    "dist = {}\n",
    "for p in pathlengths:\n",
    "    if p in dist:\n",
    "        dist[p] += 1\n",
    "    else:\n",
    "        dist[p] = 1"
   ]
  },
  {
   "cell_type": "code",
   "execution_count": 16,
   "id": "134defb1-ef9f-4f1f-98ae-fbde56cb85b8",
   "metadata": {},
   "outputs": [
    {
     "data": {
      "text/plain": [
       "{0: 11, 1: 26, 2: 18, 3: 16, 4: 14, 5: 12, 6: 10, 7: 8, 8: 6}"
      ]
     },
     "execution_count": 16,
     "metadata": {},
     "output_type": "execute_result"
    }
   ],
   "source": [
    "dist"
   ]
  },
  {
   "cell_type": "code",
   "execution_count": null,
   "id": "87cf99a6-c7e1-490e-bbdf-f98bc96f15ed",
   "metadata": {},
   "outputs": [],
   "source": []
  }
 ],
 "metadata": {
  "kernelspec": {
   "display_name": "Python 3 (ipykernel)",
   "language": "python",
   "name": "python3"
  },
  "language_info": {
   "codemirror_mode": {
    "name": "ipython",
    "version": 3
   },
   "file_extension": ".py",
   "mimetype": "text/x-python",
   "name": "python",
   "nbconvert_exporter": "python",
   "pygments_lexer": "ipython3",
   "version": "3.10.10"
  }
 },
 "nbformat": 4,
 "nbformat_minor": 5
}
